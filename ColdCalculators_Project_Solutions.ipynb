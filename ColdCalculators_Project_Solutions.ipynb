{
 "cells": [
  {
   "cell_type": "markdown",
   "metadata": {},
   "source": [
    "# ELEN4022A - FULL STACK QUANTUM COMPUTING\n",
    "\n",
    "## CONTRIBUTORS:\n",
    "\n",
    "### JAMES ALLSOP - 1110612\n",
    "### MARCO BENVENUTI - 1353626\n",
    "\n",
    "## GROUP 14 - COLD CALCULATORS\n"
   ]
  },
  {
   "cell_type": "markdown",
   "metadata": {},
   "source": [
    "# Crash Course in Quantum Computing"
   ]
  },
  {
   "cell_type": "markdown",
   "metadata": {},
   "source": [
    "# Background\n",
    "As this exercise is aimed at those with a background in software engineering (assuming little to no knowledge on quantum computing standards and notation), the background information explored is not an exhaustive exploration of linear algebra and quantum phenomena. \n",
    "\n",
    "Rather a brief overview of what is necessary to understand and construct quantum gates, circuits and the benefits of quantum computing is presented in the following (attempting to relate the content to classical computing equivalents).   "
   ]
  },
  {
   "cell_type": "markdown",
   "metadata": {},
   "source": [
    "## Bra-ket Notation\n",
    "There are several way to represent (and compute operations performed on) Quantum Bits - qubits. The primary method to represent qubits is through bra-ket (or Dirac) notation:\n",
    "\n",
    "    Binary sequence for a two bit register\n",
    "\n",
    "<div align=\"center\">$0b11$</div>\n",
    "\n",
    "    Bra-ket notation \n",
    "<div align=\"center\">$$|11\\rangle$$</div>"
   ]
  },
  {
   "cell_type": "markdown",
   "metadata": {},
   "source": [
    "Bra-ket notation is not as simple as wrapping a binary number with | and ⟩, it is actually a means of representing vectors (actually vector *spaces* in quantum science/linear algebra terms). \n",
    "\n",
    "    Bra for rows\n",
    "    \n",
    "<div align=\"center\">$$|X\\rangle = \\begin{bmatrix}X_{0}, & X_{1}, & X_{1}\\end{bmatrix} $$ </div>\n",
    "    \n",
    "    Ket for columns\n",
    "    \n",
    "$$ \n",
    "\\langle X| = \n",
    "\\begin{bmatrix}\n",
    "X_{0}\\\\\n",
    "X_{1}\\\\\n",
    "X_{2}\\\\\n",
    "\\end{bmatrix}\n",
    "$$\n",
    " \n",
    "|X⟩ is also used to represent quantum registers.  \n",
    "\n",
    "In the Bra above X<sub>0</sub> is equivalent  to the first bit in the register X."
   ]
  },
  {
   "cell_type": "markdown",
   "metadata": {},
   "source": [
    "### Products\n",
    "Bra-ket notation is useful as it can be used to represent matrices (and operations on matrices).  \n",
    "\n",
    "Matrices are a large component of representing quantum componenets, operations and circuits. These matrices tend to become quite large (8 by 8 for only 3 qubits) - representing them in an understandable and condensed format is necessary [1]. "
   ]
  },
  {
   "cell_type": "markdown",
   "metadata": {},
   "source": [
    "There are three primary operations:  \n",
    "    \n",
    "    Inner Product (equivalent to the dot product)\n",
    "<div align=\"center\">$$\\langle X|Y \\rangle = X \\bullet Y = [\\begin{matrix}X_{2}Y_{2} & + X_{1}Y_{1}, + & X_{0}Y_{0}\\end{matrix}] $$ </div>\n",
    "\n",
    "    Outer Product (equivalent to matrix multiplication)\n",
    "$$|X\\rangle \\langle Y|= XY = \n",
    "\\begin{bmatrix}\n",
    "X_{0}\\\\\n",
    "X_{1}\\\\\n",
    "X_{2}\\\\\n",
    "\\end{bmatrix}\n",
    "\\begin{bmatrix}Y_{0}, & Y_{1}, & Y_{1}\\end{bmatrix} =\n",
    "\\begin{bmatrix}\n",
    "X_{0}Y_{0} & X_{0}Y_{1}\\\\\n",
    "X_{1}Y_{0} & X_{1}Y_{1}\\\\\n",
    "\\end{bmatrix} \n",
    "$$\n",
    "    \n",
    "    Kronecker Product (vectors)\n",
    "$$|X\\rangle \\otimes |Y\\rangle = |X\\rangle|Y\\rangle $$\n",
    "<br>\n",
    "$$\n",
    "\\begin{bmatrix}\n",
    "X_{0}\\\\\n",
    "X_{1}\\\\\n",
    "X_{2}\\\\\n",
    "\\end{bmatrix} \\otimes\n",
    "\\begin{bmatrix}\n",
    "Y_{0}\\\\\n",
    "Y_{1}\\\\\n",
    "Y_{2}\\\\\n",
    "\\end{bmatrix} \n",
    "= \n",
    "\\begin{bmatrix}\n",
    "X_{0}Y_{0}\\\\\n",
    "X_{1}Y_{1}\\\\\n",
    "X_{2}Y_{2}\\\\\n",
    "\\end{bmatrix} \n",
    "$$\n",
    "\n",
    "\n",
    "\n",
    "    Kronecker Product (matrices)\n",
    "$$X \\otimes Y = \n",
    "\\begin{bmatrix}\n",
    "X_{11} & X_{12}\\\\\n",
    "X_{21} & X_{22}\\\\\n",
    "\\end{bmatrix} \\otimes \n",
    "\\begin{bmatrix}\n",
    "Y_{11} & Y_{12}\\\\\n",
    "Y_{21} & Y_{22}\\\\\n",
    "\\end{bmatrix} \n",
    "= \n",
    "\\begin{bmatrix}\n",
    "X_{11}Y & X_{12}Y\\\\\n",
    "X_{21}Y & X_{22}Y\\\\\n",
    "\\end{bmatrix} \n",
    "$$\n",
    "<br>\n",
    "$$\n",
    "=\n",
    "\\begin{bmatrix}\n",
    "X_{11}\\begin{bmatrix}\n",
    "Y_{11} & Y_{12}\\\\\n",
    "Y_{21} & Y_{22}\\\\\n",
    "\\end{bmatrix}  & X_{12}\\begin{bmatrix}\n",
    "Y_{11} & Y_{12}\\\\\n",
    "Y_{21} & Y_{22}\\\\\n",
    "\\end{bmatrix} \\\\\n",
    "X_{21}\\begin{bmatrix}\n",
    "Y_{11} & Y_{12}\\\\\n",
    "Y_{21} & Y_{22}\\\\\n",
    "\\end{bmatrix}  & X_{22}\\begin{bmatrix}\n",
    "Y_{11} & Y_{12}\\\\\n",
    "Y_{21} & Y_{22}\\\\\n",
    "\\end{bmatrix} \\\\\n",
    "\\end{bmatrix} \n",
    "$$\n",
    "<br>\n",
    "$$\n",
    "=\n",
    "\\begin{bmatrix}\n",
    "X_{11}Y_{11} & X_{11}Y_{12} & X_{12}Y_{11} & X_{12}Y_{22}\\\\\n",
    "X_{11}Y_{21} & X_{11}Y_{22} & X_{12}Y_{21} & X_{12}Y_{22}\\\\\n",
    "X_{21}Y_{11} & X_{21}Y_{12} & X_{22}Y_{11} & X_{22}Y_{12}\\\\\n",
    "X_{21}Y_{21} & X_{21}Y_{22} & X_{22}Y_{21} & X_{22}Y_{22}\\\\\n",
    "\\end{bmatrix} \n",
    "$$\n",
    "<br>\n",
    "Quantum calculation involve only square matrices, simplifying computation \n"
   ]
  },
  {
   "cell_type": "markdown",
   "metadata": {},
   "source": [
    "## State Vectors\n",
    "As stated when bra-ket was introduced earlier, the difference between classical and quantum representation of bits is not as simple as wrapping a binary number with | and ⟩.\n",
    "\n",
    "The means by which Quantum computing is exponentially faster than classical computing (for certain tasks) is a phenomenon called <i>superposition</i>. A superpositon state (without going into too much detail), in terms of a qubit, is when a qubit's state is equally likely to be 0 or 1 -  based on the probability that a qubit will <i>collapse</i> to a certain state when measured. \n",
    "\n",
    "A detailed derivation and explanation of the quantum physics behind this propery is beyond the scope of this exerccise. However, the properties of this phenomena are what is important when it comes to quantum computing. \n",
    "\n",
    "As a qubit's state is not explicitly defined (i.e. binary) a probability is assigned as to what that probability will be. This is represented as a state vector. "
   ]
  },
  {
   "cell_type": "markdown",
   "metadata": {},
   "source": [
    "    Using the same example presented earlier that of the binary number 0b11  \n",
    "<br>\n",
    "\n",
    "$$ |11⟩ = \n",
    "\\begin{bmatrix}\n",
    "0\\\\\n",
    "0\\\\\n",
    "0\\\\\n",
    "1\\\\\n",
    "\\end{bmatrix}\n",
    "$$\n",
    "\n",
    "### Need to clarify more it's not just 100% - normalisation etc. \n",
    "\n",
    "This actually represents the probability that 2 qubit register will collapse to one of four states when measured.\n",
    "\n",
    "    Specifcally\n",
    "\n",
    "$$ |11⟩ = \n",
    "\\begin{bmatrix}\n",
    "0 \\% \\space probability \\space in \\space state \\space 00\\\\\n",
    "0 \\% \\space probability \\space in \\space state \\space 01\\\\\n",
    "0 \\% \\space probability \\space in \\space state \\space 10\\\\\n",
    "100 \\% \\space probability \\space in \\space state \\space 11\\\\\n",
    "\\end{bmatrix}\n",
    "$$\n",
    "\n",
    "talk about othogonal basis (probabiltiy cant be higher than 1)"
   ]
  },
  {
   "cell_type": "markdown",
   "metadata": {},
   "source": [
    "## Gates\n"
   ]
  },
  {
   "cell_type": "markdown",
   "metadata": {},
   "source": [
    "## Qiskit"
   ]
  },
  {
   "cell_type": "markdown",
   "metadata": {},
   "source": [
    "# References\n",
    "[1.] bra-ket <br>\n",
    "[2.] R. Sutor, <i>Dancing With Qubits</i>, 1st ed. Birmingham: PACKT Publishing, Limited, 2019.<br>\n",
    "[3.] IBM Quantum. https://quantum-computing.ibm.com/, 2021 <br>\n",
    "[4.] IBM Quantum. https://quantum-computing.ibm.com/services?skip=0&systems=all&system=ibmq_lima, 2021 <br>\n",
    "[5.] IBM Quantum. https://quantum-computing.ibm.com/services?skip=0&systems=all&system=ibmq_5_yorktown, 2021 <br>\n",
    "    "
   ]
  },
  {
   "cell_type": "code",
   "execution_count": 35,
   "metadata": {},
   "outputs": [
    {
     "name": "stderr",
     "output_type": "stream",
     "text": [
      "ibmqfactory.load_account:WARNING:2021-05-20 13:51:39,454: Credentials are already in use. The existing account in the session will be replaced.\n"
     ]
    }
   ],
   "source": [
    "%matplotlib inline\n",
    "\n",
    "from qiskit import QuantumCircuit, execute, Aer, IBMQ\n",
    "from qiskit.compiler import transpile, assemble\n",
    "from qiskit.tools.jupyter import *\n",
    "from qiskit.visualization import *\n",
    "from ibm_quantum_widgets import *\n",
    "from qiskit_textbook.tools import array_to_latex\n",
    "from qiskit import ClassicalRegister, QuantumRegister\n",
    "from qiskit.providers.aer.noise import NoiseModel\n",
    "from qiskit.visualization import plot_histogram, plot_bloch_multivector\n",
    "from qiskit.quantum_info import Statevector\n",
    "\n",
    "import numpy as np\n",
    "import math\n",
    "\n",
    "provider = IBMQ.load_account()"
   ]
  },
  {
   "cell_type": "markdown",
   "metadata": {},
   "source": [
    "## Grover's Algorithm\n",
    "\n",
    "Quantum Computers have the advantage of superior speed with regards to database searching. Using classical computation, there would be an average complexity of $\\mathbb{O}(N/2)$ while using quantum algorithms, this complexity reduces to $\\sqrt{N}$. This means the quantum algorithm will be vastly superior to classical computing methods when scaled up to real sized data. \n",
    "\n",
    "In this part of the exercise, we will explore a 2-qubit N=4 search algorithm, as well as testing the derived circuits."
   ]
  },
  {
   "cell_type": "markdown",
   "metadata": {},
   "source": [
    "First, we put all bits in superposition\n",
    "\n",
    "$| s> = \\frac{1}{2} (|00\\rangle + |01\\rangle + |10\\rangle + |11\\rangle)$"
   ]
  },
  {
   "cell_type": "code",
   "execution_count": 2,
   "metadata": {},
   "outputs": [],
   "source": [
    "q_reg = QuantumRegister(2,'q')\n",
    "c_reg = ClassicalRegister(2,'c')"
   ]
  },
  {
   "cell_type": "markdown",
   "metadata": {},
   "source": [
    "Next we need to find the Oracle circuits for our search values. These oracle maticies are found uniquely to the required winner \n",
    "\n",
    "First, we finding $|11\\rangle$ - We then 'mark' $|11\\rangle$ by making it negative.\n",
    "\n",
    "We find our Oracle to be <center>$U_{\\omega}|s\\rangle = \\frac{1}{2} (|00\\rangle + |01\\rangle + |10\\rangle - |11\\rangle)$</center>\n",
    "<br>\n",
    "Hence:\n",
    "\\begin{equation*}\n",
    "U_{\\omega = 0} =\n",
    "\\begin{bmatrix}\n",
    "1 & 0 & 0 & 0\\\\\n",
    "0 & 1 & 0 & 0\\\\\n",
    "0 & 0 & 1& 0\\\\\n",
    "0 & 0 & 0 & -1\n",
    "\\end{bmatrix}\n",
    "\\end{equation*}\n",
    "Which is known to be the Unitary matrix for the Controlled Z gate. "
   ]
  },
  {
   "cell_type": "code",
   "execution_count": 3,
   "metadata": {},
   "outputs": [
    {
     "data": {
      "image/png": "[encoded data removed]",
      "text/plain": [
       "<Figure size 146.652x144.48 with 1 Axes>"
      ]
     },
     "execution_count": 3,
     "metadata": {},
     "output_type": "execute_result"
    }
   ],
   "source": [
    "U3 = QuantumCircuit(q_reg, name='Oracle-11')\n",
    "U3.cz(q_reg[0], q_reg[1])\n",
    "U3.draw(output='mpl', plot_barriers=True)"
   ]
  },
  {
   "cell_type": "markdown",
   "metadata": {},
   "source": [
    "Next we need to find the Oracle circuits for our search values.\n",
    "\n",
    "First, we finding $|10\\rangle$ - We then 'mark' $|10\\rangle$ by making it negative.\n",
    "\n",
    "We find our Oracle to be <center>$U_{\\omega}|s\\rangle = \\frac{1}{2} (|00\\rangle + |01\\rangle - |10\\rangle + |11\\rangle)$</center>\n",
    "<br>\n",
    "Hence:\n",
    "\\begin{equation*}\n",
    "U_{\\omega = 0} =\n",
    "\\begin{bmatrix}\n",
    "1 & 0 & 0 & 0\\\\\n",
    "0 & 1 & 0 & 0\\\\\n",
    "0 & 0 & -1& 0\\\\\n",
    "0 & 0 & 0 & 1\n",
    "\\end{bmatrix}\n",
    "\\end{equation*}\n",
    "\n",
    "This oracle circuit can be realised as follows:"
   ]
  },
  {
   "cell_type": "code",
   "execution_count": 4,
   "metadata": {},
   "outputs": [
    {
     "data": {
      "image/png": "[encoded data removed]",
      "text/plain": [
       "<Figure size 206.852x144.48 with 1 Axes>"
      ]
     },
     "execution_count": 4,
     "metadata": {},
     "output_type": "execute_result"
    }
   ],
   "source": [
    "U2 = QuantumCircuit(q_reg, name='Oracle-10')\n",
    "U2.z(q_reg[1])\n",
    "U2.cz(q_reg[0], q_reg[1])\n",
    "U2.draw(output='mpl', plot_barriers=True)"
   ]
  },
  {
   "cell_type": "markdown",
   "metadata": {},
   "source": [
    "Next we need to find the Oracle circuits for our search values.\n",
    "\n",
    "Finding $|01\\rangle$\n",
    "We find our Oracle to be <center>$U_{\\omega}|s\\rangle = \\frac{1}{2} (|00\\rangle - |01\\rangle + |10\\rangle + |11\\rangle)$</center>\n",
    "<br>\n",
    "Hence:\n",
    "\\begin{equation*}\n",
    "U_{\\omega = 0} =\n",
    "\\begin{bmatrix}\n",
    "1 & 0 & 0 & 0\\\\\n",
    "0 & -1 & 0 & 0\\\\\n",
    "0 & 0 & 1& 0\\\\\n",
    "0 & 0 & 0 & 1\n",
    "\\end{bmatrix}\n",
    "\\end{equation*}\n",
    "\n",
    "Resulting in the Oracle Circuit:"
   ]
  },
  {
   "cell_type": "code",
   "execution_count": 5,
   "metadata": {
    "scrolled": true
   },
   "outputs": [
    {
     "data": {
      "image/png": "[encoded data removed]",
      "text/plain": [
       "<Figure size 206.852x144.48 with 1 Axes>"
      ]
     },
     "execution_count": 5,
     "metadata": {},
     "output_type": "execute_result"
    }
   ],
   "source": [
    "U1 = QuantumCircuit(q_reg, name='Oracle-01')\n",
    "U1.z(q_reg[0])\n",
    "U1.cz(q_reg[0], q_reg[1])\n",
    "U1.draw(output='mpl', plot_barriers=True)"
   ]
  },
  {
   "cell_type": "markdown",
   "metadata": {},
   "source": [
    "Next we need to find the Oracle circuits for our search values.\n",
    "\n",
    "Finally, we find $|00\\rangle$. This will also be used to determine the Difusing circuit.\n",
    "We find our Oracle to be <center>$U_{\\omega}|s\\rangle = \\frac{1}{2} (|00\\rangle - |01\\rangle + |10\\rangle + |11\\rangle)$</center>\n",
    "<br>\n",
    "Hence:\n",
    "\\begin{equation*}\n",
    "U_{\\omega = 0} =\n",
    "\\begin{bmatrix}\n",
    "-1 & 0 & 0 & 0\\\\\n",
    "0 & 1 & 0 & 0\\\\\n",
    "0 & 0 & 1& 0\\\\\n",
    "0 & 0 & 0 & 1\n",
    "\\end{bmatrix}\n",
    "\\end{equation*}\n",
    "\n",
    "Resulting in the Oracle Circuit:"
   ]
  },
  {
   "cell_type": "code",
   "execution_count": 6,
   "metadata": {
    "scrolled": true
   },
   "outputs": [
    {
     "data": {
      "image/png": "[encoded data removed]",
      "text/plain": [
       "<Figure size 267.052x144.48 with 1 Axes>"
      ]
     },
     "execution_count": 6,
     "metadata": {},
     "output_type": "execute_result"
    }
   ],
   "source": [
    "U0 = QuantumCircuit(q_reg, name='Oracle-00')\n",
    "U0.h(q_reg)\n",
    "U0.z(q_reg[:])\n",
    "U0.cz(q_reg[0], q_reg[1])\n",
    "U0.draw(output='mpl', plot_barriers=True)"
   ]
  },
  {
   "cell_type": "markdown",
   "metadata": {},
   "source": [
    "$U_{S} = 2|s\\rangle\\langle s| - \\mathbb{1}$\n",
    "and we know\n",
    "$H^{\\otimes n}|s\\rangle = |0\\rangle$\n",
    "\n",
    "We then apply a negative phase change to states orthogonal to $|0\\rangle$\n",
    "\n",
    "So we get $U_{0}\\frac{1}{2} (|00\\rangle + |01\\rangle + |10\\rangle + |11\\rangle) = \\frac{1}{2} (|00\\rangle - |01\\rangle - |10\\rangle - |11\\rangle) $\n",
    "\n",
    "\n",
    "\\begin{equation*}\n",
    "U_{0} =\n",
    "\\begin{bmatrix}\n",
    "1 & 0 & 0 & 0\\\\\n",
    "0 & -1 & 0 & 0\\\\\n",
    "0 & 0 & -1 & 0\\\\\n",
    "0 & 0 & 0 & -1\n",
    "\\end{bmatrix}\n",
    "\\end{equation*}\n",
    "\n",
    "This can be reaslised as a circiut as below:"
   ]
  },
  {
   "cell_type": "code",
   "execution_count": 7,
   "metadata": {
    "scrolled": false
   },
   "outputs": [
    {
     "data": {
      "image/png": "[encoded data removed]",
      "text/plain": [
       "<Figure size 327.252x144.48 with 1 Axes>"
      ]
     },
     "execution_count": 7,
     "metadata": {},
     "output_type": "execute_result"
    }
   ],
   "source": [
    "US = QuantumCircuit(q_reg, name='Diffuser')\n",
    "US.h(q_reg)\n",
    "US.append(U0.to_gate(), q_reg)\n",
    "US.h(q_reg)\n",
    "US.draw(output='mpl', plot_barriers=True)"
   ]
  },
  {
   "cell_type": "markdown",
   "metadata": {},
   "source": [
    "## Circuit Combining:\n",
    "\n",
    "First We have combine our search Oracle and Diffuser to create our complete Grover Algorithm Circuits.\n",
    "\n",
    "Lets consider the case where we care searching for the element $|11\\rangle$ using the U11 Circuit we created."
   ]
  },
  {
   "cell_type": "code",
   "execution_count": 8,
   "metadata": {
    "scrolled": false
   },
   "outputs": [
    {
     "data": {
      "image/png": "[encoded data removed]",
      "text/plain": [
       "<Figure size 507.852x204.68 with 1 Axes>"
      ]
     },
     "execution_count": 8,
     "metadata": {},
     "output_type": "execute_result"
    }
   ],
   "source": [
    "Search11 = QuantumCircuit(q_reg, c_reg)\n",
    "Search11.h(q_reg)\n",
    "Search11.append(U3.to_gate(),q_reg)\n",
    "Search11.append(US.to_gate(),q_reg)\n",
    "Search11.measure(q_reg, c_reg)\n",
    "Search11.draw(output='mpl', plot_barriers=True)"
   ]
  },
  {
   "cell_type": "markdown",
   "metadata": {},
   "source": [
    "Now repeat this process to find our remaining search circuits for $|10\\rangle |01\\rangle and |00\\rangle"
   ]
  },
  {
   "cell_type": "code",
   "execution_count": 9,
   "metadata": {
    "scrolled": true
   },
   "outputs": [
    {
     "data": {
      "image/png": "[encoded data removed]",
      "text/plain": [
       "<Figure size 507.852x204.68 with 1 Axes>"
      ]
     },
     "execution_count": 9,
     "metadata": {},
     "output_type": "execute_result"
    }
   ],
   "source": [
    "Search10 = QuantumCircuit(q_reg, c_reg)\n",
    "Search10.h(q_reg)\n",
    "Search10.append(U2.to_gate(),q_reg)\n",
    "Search10.append(US.to_gate(),q_reg)\n",
    "Search10.measure(q_reg, c_reg)\n",
    "Search10.draw(output='mpl', plot_barriers=True)"
   ]
  },
  {
   "cell_type": "code",
   "execution_count": 11,
   "metadata": {
    "scrolled": true
   },
   "outputs": [
    {
     "data": {
      "image/png": "[encoded data removed]",
      "text/plain": [
       "<Figure size 507.852x204.68 with 1 Axes>"
      ]
     },
     "execution_count": 11,
     "metadata": {},
     "output_type": "execute_result"
    }
   ],
   "source": [
    "Search01 = QuantumCircuit(q_reg, c_reg)\n",
    "Search01.h(q_reg)\n",
    "Search01.append(U1.to_gate(),q_reg)\n",
    "Search01.append(US.to_gate(),q_reg)\n",
    "Search01.measure(q_reg, c_reg)\n",
    "Search01.draw(output='mpl', plot_barriers=True)"
   ]
  },
  {
   "cell_type": "code",
   "execution_count": 12,
   "metadata": {
    "scrolled": true
   },
   "outputs": [
    {
     "data": {
      "image/png": "[encoded data removed]",
      "text/plain": [
       "<Figure size 507.852x204.68 with 1 Axes>"
      ]
     },
     "execution_count": 12,
     "metadata": {},
     "output_type": "execute_result"
    }
   ],
   "source": [
    "Search00 = QuantumCircuit(q_reg, c_reg)\n",
    "Search00.h(q_reg)\n",
    "Search00.append(U0.to_gate(),q_reg)\n",
    "Search00.append(US.to_gate(),q_reg)\n",
    "Search00.measure(q_reg, c_reg)\n",
    "Search00.draw(output='mpl', plot_barriers=True)"
   ]
  },
  {
   "cell_type": "markdown",
   "metadata": {},
   "source": [
    "## Testing:\n",
    "\n",
    "Next we will try and test the circuits using different methods. We will do this in 3 stages to show \n",
    "\n",
    "First, we will test using the IBMQ qasm simulator. We can use local simulators that returns the results faster. However because it is local, your simulations are limited to your local resources and can have issues with larger circuits.\n",
    "\n",
    "Since we are testing a search for $|11\\rangle$, we can expect the output to be \n",
    "<center> $|11\\rangle$ </center>\n",
    "or in state vector form:\n",
    "$$\n",
    "\\begin{bmatrix}\n",
    "0\\\\\n",
    "0\\\\\n",
    "0\\\\\n",
    "1\\\\\n",
    "\\end{bmatrix}\n",
    "$$"
   ]
  },
  {
   "cell_type": "code",
   "execution_count": 13,
   "metadata": {
    "scrolled": false
   },
   "outputs": [
    {
     "data": {
      "image/png": "[encoded data removed]",
      "text/plain": [
       "<Figure size 504x360 with 1 Axes>"
      ]
     },
     "execution_count": 13,
     "metadata": {},
     "output_type": "execute_result"
    }
   ],
   "source": [
    "# Get the Back-End Simulator\n",
    "backend = provider.get_backend('ibmq_qasm_simulator')\n",
    "# Transpile the Gates into the device's basis gates. More detail on that later...\n",
    "transpiled = transpile(Search11, backend=backend)\n",
    "# Run the job on the IBM back-end simulator\n",
    "job = backend.run(transpiled)\n",
    "# Retrieve the Result of the job that was just run.\n",
    "retrieved_job = backend.retrieve_job(job.job_id())\n",
    "# Plot the result of the simulation:\n",
    "counts = retrieved_job.result().get_counts()\n",
    "plot_histogram(counts)"
   ]
  },
  {
   "cell_type": "markdown",
   "metadata": {},
   "source": [
    "Now, try simulating the other search gates to confirm your results are correct.\n",
    "\n",
    "Note the outcome of the search for $|00\\rangle$. What can we do to deal with this?"
   ]
  },
  {
   "cell_type": "code",
   "execution_count": 14,
   "metadata": {
    "scrolled": true
   },
   "outputs": [
    {
     "data": {
      "image/png": "[encoded data removed]",
      "text/plain": [
       "<Figure size 504x360 with 1 Axes>"
      ]
     },
     "execution_count": 14,
     "metadata": {},
     "output_type": "execute_result"
    }
   ],
   "source": [
    "# Transpile the Gates into the device's basis gates. More detail on that later...\n",
    "transpiled = transpile(Search10, backend=backend)\n",
    "# Run the job on the IBM back-end simulator\n",
    "job = backend.run(transpiled)\n",
    "# Retrieve the Result of the job that was just run.\n",
    "retrieved_job = backend.retrieve_job(job.job_id())\n",
    "# Plot the result of the simulation:\n",
    "counts = retrieved_job.result().get_counts()\n",
    "plot_histogram(counts)"
   ]
  },
  {
   "cell_type": "code",
   "execution_count": 15,
   "metadata": {
    "scrolled": true
   },
   "outputs": [
    {
     "data": {
      "image/png": "[encoded data removed]",
      "text/plain": [
       "<Figure size 504x360 with 1 Axes>"
      ]
     },
     "execution_count": 15,
     "metadata": {},
     "output_type": "execute_result"
    }
   ],
   "source": [
    "# Get the Back-End Simulator\n",
    "backend = provider.get_backend('ibmq_qasm_simulator')\n",
    "# Transpile the Gates into the device's basis gates. More detail on that later...\n",
    "transpiled = transpile(Search01, backend=backend)\n",
    "# Run the job on the IBM back-end simulator\n",
    "job = backend.run(transpiled)\n",
    "# Retrieve the Result of the job that was just run.\n",
    "retrieved_job = backend.retrieve_job(job.job_id())\n",
    "# Plot the result of the simulation:\n",
    "counts = retrieved_job.result().get_counts()\n",
    "plot_histogram(counts)"
   ]
  },
  {
   "cell_type": "code",
   "execution_count": 16,
   "metadata": {
    "scrolled": false
   },
   "outputs": [
    {
     "data": {
      "image/png": "[encoded data removed]",
      "text/plain": [
       "<Figure size 504x360 with 1 Axes>"
      ]
     },
     "execution_count": 16,
     "metadata": {},
     "output_type": "execute_result"
    }
   ],
   "source": [
    "# Get the Back-End Simulator\n",
    "backend = provider.get_backend('ibmq_qasm_simulator')\n",
    "# Transpile the Gates into the device's basis gates. More detail on that later...\n",
    "transpiled = transpile(Search00, backend=backend)\n",
    "# Run the job on the IBM back-end simulator\n",
    "job = backend.run(transpiled)\n",
    "# Retrieve the Result of the job that was just run.\n",
    "retrieved_job = backend.retrieve_job(job.job_id())\n",
    "# Plot the result of the simulation:\n",
    "counts = retrieved_job.result().get_counts()\n",
    "plot_histogram(counts)"
   ]
  },
  {
   "cell_type": "markdown",
   "metadata": {},
   "source": [
    "As we can see, the outcome for fiding any of the possible outcomes is equally likely. This means the output of the circuit in superposition when measuring and results in about a 50% chance of the qubit collapsing to either 0 or 1. To rectify this, we add a Hadamard gate to remove the superposition state before measuring. This results in the circuit below, which from simulating provides the correct result."
   ]
  },
  {
   "cell_type": "code",
   "execution_count": 24,
   "metadata": {
    "scrolled": true
   },
   "outputs": [
    {
     "data": {
      "image/png": "[encoded data removed]",
      "text/plain": [
       "<Figure size 568.052x204.68 with 1 Axes>"
      ]
     },
     "execution_count": 24,
     "metadata": {},
     "output_type": "execute_result"
    }
   ],
   "source": [
    "Search00 = QuantumCircuit(q_reg, c_reg)\n",
    "Search00.h(q_reg)\n",
    "Search00.append(U0.to_gate(),q_reg)\n",
    "Search00.append(US.to_gate(),q_reg)\n",
    "Search00.h(q_reg)\n",
    "Search00.measure(q_reg, c_reg)\n",
    "Search00.draw(output='mpl', plot_barriers=True)"
   ]
  },
  {
   "cell_type": "code",
   "execution_count": 25,
   "metadata": {
    "scrolled": true
   },
   "outputs": [
    {
     "data": {
      "image/png": "[encoded data removed]",
      "text/plain": [
       "<Figure size 504x360 with 1 Axes>"
      ]
     },
     "execution_count": 25,
     "metadata": {},
     "output_type": "execute_result"
    }
   ],
   "source": [
    "# Get the Back-End Simulator\n",
    "backend = provider.get_backend('ibmq_qasm_simulator')\n",
    "# Transpile the Gates into the device's basis gates. More detail on that later...\n",
    "transpiled = transpile(Search00, backend=backend)\n",
    "# Run the job on the IBM back-end simulator\n",
    "job = backend.run(transpiled)\n",
    "# Retrieve the Result of the job that was just run.\n",
    "retrieved_job = backend.retrieve_job(job.job_id())\n",
    "# Plot the result of the simulation:\n",
    "counts = retrieved_job.result().get_counts()\n",
    "plot_histogram(counts)"
   ]
  },
  {
   "cell_type": "markdown",
   "metadata": {},
   "source": [
    "Now, We take a look at how Noise and limited Basis Gates and the qubit Coupling Map affect our circuit. For this we shall look at 2 different IBM Quantum Devices, ibmq_lima and ibmq_5_yorktown.\n",
    "\n",
    "Both of these devices have 5 qubits and a quantum volume of 8. ibmq_lima device uses the Falcon r4 processor while the ibmq_5_yorktown device uses the Canary r1 processor.\n",
    "\n",
    "Fun Fact: IBM names their quantum devices after cities where IBM Labs are located, however the devices are not necessarily stationed in those cities.\n",
    "\n",
    "To do run this noisy simulation, we have to get our device's basis gates, coupling map and noise model. \n",
    "We then apply the devices characteristics to the simulator and run this. For this we need the local qasm simulator."
   ]
  },
  {
   "cell_type": "code",
   "execution_count": 30,
   "metadata": {},
   "outputs": [],
   "source": [
    "from qiskit.providers.aer.noise import NoiseModel\n",
    "\n",
    "qasmsim = Aer.get_backend('qasm_simulator')\n",
    "\n",
    "backend_lima = provider.get_backend('ibmq_lima')\n",
    "backend_5_yorktown = provider.get_backend('ibmq_5_yorktown')\n",
    "\n",
    "noise_model_lima = NoiseModel.from_backend(backend_lima)\n",
    "noise_model_5_yorktown = NoiseModel.from_backend(backend_5_yorktown)\n",
    "\n",
    "coupling_map_lima = backend_lima.configuration().coupling_map\n",
    "coupling_map_5_yorktown = backend_5_yorktown.configuration().coupling_map\n",
    "\n",
    "basis_gates_lima = noise_model_lima.basis_gates\n",
    "basis_gates_5_yorktown = noise_model_5_yorktown.basis_gates"
   ]
  },
  {
   "cell_type": "code",
   "execution_count": 32,
   "metadata": {},
   "outputs": [
    {
     "data": {
      "image/png": "[encoded data removed]",
      "text/plain": [
       "<Figure size 504x360 with 1 Axes>"
      ]
     },
     "execution_count": 32,
     "metadata": {},
     "output_type": "execute_result"
    }
   ],
   "source": [
    "result_lima = execute(Search11, qasmsim,\n",
    "                 coupling_map=coupling_map_lima,\n",
    "                 basis_gates=basis_gates_lima,\n",
    "                 noise_model=noise_model_lima).result()\n",
    "counts_lima = result_lima.get_counts()\n",
    "plot_histogram(counts_lima)"
   ]
  },
  {
   "cell_type": "code",
   "execution_count": 34,
   "metadata": {
    "scrolled": true
   },
   "outputs": [
    {
     "data": {
      "image/png": "[encoded data removed]",
      "text/plain": [
       "<Figure size 504x360 with 1 Axes>"
      ]
     },
     "execution_count": 34,
     "metadata": {},
     "output_type": "execute_result"
    }
   ],
   "source": [
    "result_5_yorktown = execute(Search11, qasmsim,\n",
    "                 coupling_map=coupling_map_5_yorktown,\n",
    "                 basis_gates=basis_gates_5_yorktown,\n",
    "                 noise_model=noise_model_5_yorktown).result()\n",
    "counts_5_yorktown = result_5_yorktown.get_counts()\n",
    "plot_histogram(counts_5_yorktown)"
   ]
  },
  {
   "cell_type": "markdown",
   "metadata": {},
   "source": [
    "As we can see, both simulations have incorrect readings when measured. This can be atributed to noise on the circuits as well as CNOT error rates, the likelyhood increasing drasically as the number of quantum gates increase. To understand this better, it may be useful to look at the basis gates and coupling map. It may also be useful to draw the decomposed circuit to understand how many gates are used due to the transciption of designed circuits into physically realised circuits.\n",
    "\n",
    "Experiment with the other circuits on the noisy simulators too and see ow the results differ.\n",
    "<textarea style=\"width:80%; height: 20vh\"></textarea>\n",
    "\n",
    "Finally, it is time to run the circuit on an actual quantum device. This process is very similar to the simulation process above, however need to change our back-end device first. We shall run this process on the ibmq_5_yorktown device, however it in encouraged to run this on ibmq_lima too and compare results."
   ]
  },
  {
   "cell_type": "code",
   "execution_count": 38,
   "metadata": {},
   "outputs": [],
   "source": [
    "# Get the Back-End Simulator\n",
    "backend_5_yorktown = provider.get_backend('ibmq_5_yorktown')\n",
    "backend_lima = provider.get_backend('ibmq_lima')"
   ]
  },
  {
   "cell_type": "markdown",
   "metadata": {},
   "source": [
    "Finally we run the circuits on the actual quantum hardware. This may take some time to run as there may be queues for quantum circuits, depending on the device, day and time, and other quantum circuits may take longer to execute due to the number of shots."
   ]
  },
  {
   "cell_type": "code",
   "execution_count": 40,
   "metadata": {
    "scrolled": false
   },
   "outputs": [
    {
     "data": {
      "image/png": "[encoded data removed]",
      "text/plain": [
       "<Figure size 504x360 with 1 Axes>"
      ]
     },
     "execution_count": 40,
     "metadata": {},
     "output_type": "execute_result"
    }
   ],
   "source": [
    "# Transpile the Gates into the device's basis gates.\n",
    "transpiled_5_yorktown = transpile(Search11, backend=backend_5_yorktown)\n",
    "\n",
    "# Run the job on the IBM back-end simulator\n",
    "job_5_yorktown = backend_5_yorktown.run(transpiled_5_yorktown)\n",
    "\n",
    "# Retrieve the Result\n",
    "retrieved_job_5_yorktown = backend_5_yorktown.retrieve_job(job_5_yorktown.job_id())\n",
    "\n",
    "# Plot the result of the simulation:\n",
    "counts_5_yorktown = retrieved_job_5_yorktown.result().get_counts()\n",
    "plot_histogram(counts_5_yorktown)"
   ]
  },
  {
   "cell_type": "code",
   "execution_count": 41,
   "metadata": {
    "scrolled": false
   },
   "outputs": [],
   "source": [
    "# transpiled_lima = transpile(Search11, backend=backend_lima)\n",
    "# job_lima = backend_lima.run(transpiled_lima)\n",
    "# retrieved_job_lima = backend_lima.retrieve_job(job_lima.job_id())\n",
    "# counts_lima = retrieved_job_lima.result().get_counts()\n",
    "# plot_histogram(counts_lima)"
   ]
  },
  {
   "cell_type": "markdown",
   "metadata": {},
   "source": [
    "As we can see. Running the search algorithm is highly effective and stable in a quantum environment. Despite some errors due to CNot errors, measurement errors, coupling and noise the quantum circuit runs as expected."
   ]
  },
  {
   "cell_type": "code",
   "execution_count": null,
   "metadata": {},
   "outputs": [],
   "source": []
  }
 ],
 "metadata": {
  "kernelspec": {
   "display_name": "Python 3",
   "language": "python",
   "name": "python3"
  },
  "language_info": {
   "codemirror_mode": {
    "name": "ipython",
    "version": 3
   },
   "file_extension": ".py",
   "mimetype": "text/x-python",
   "name": "python",
   "nbconvert_exporter": "python",
   "pygments_lexer": "ipython3",
   "version": "3.7.6"
  }
 },
 "nbformat": 4,
 "nbformat_minor": 4
}
