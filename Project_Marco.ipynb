{
 "cells": [
  {
   "cell_type": "markdown",
   "metadata": {},
   "source": [
    "# ELEN4022A - FULL STACK QUANTUM COMPUTING\n",
    "\n",
    "## CONTRIBUTORS:\n",
    "\n",
    "### JAMES ALLSOP - 1110612\n",
    "### MARCO BENVENUTI - 1353626\n",
    "\n",
    "## GROUP 14 - COLD CALCULATORS\n"
   ]
  },
  {
   "cell_type": "code",
   "execution_count": 62,
   "metadata": {},
   "outputs": [
    {
     "name": "stderr",
     "output_type": "stream",
     "text": [
      "ibmqfactory.load_account:WARNING:2021-05-19 17:50:40,264: Credentials are already in use. The existing account in the session will be replaced.\n"
     ]
    }
   ],
   "source": [
    "%matplotlib inline\n",
    "\n",
    "from qiskit import QuantumCircuit, execute, Aer, IBMQ\n",
    "from qiskit.compiler import transpile, assemble\n",
    "from qiskit.tools.jupyter import *\n",
    "from qiskit.visualization import *\n",
    "from ibm_quantum_widgets import *\n",
    "from qiskit_textbook.tools import array_to_latex\n",
    "from qiskit import ClassicalRegister, QuantumRegister\n",
    "from qiskit.providers.aer.noise import NoiseModel\n",
    "from qiskit.visualization import plot_histogram, plot_bloch_multivector\n",
    "from qiskit.quantum_info import Statevector\n",
    "\n",
    "import numpy as np\n",
    "import math\n",
    "\n",
    "provider = IBMQ.load_account()"
   ]
  },
  {
   "cell_type": "markdown",
   "metadata": {},
   "source": [
    "## Grover's Algorithm\n",
    "\n",
    "Quantum Computers have the advantage of superior speed with regards to database searching. Using classical computation, there would be an average complexity of $\\mathbb{O}(N/2)$ while using quantum algorithms, this complexity reduces to $\\sqrt{N}$. This means the quantum algorithm will be vastly superior to classical computing methods when scaled up to real sized data. \n",
    "\n",
    "In this part of the exercise, we will explore a 2-qubit N=4 search algorithm, as well as testing the derived circuits."
   ]
  },
  {
   "cell_type": "markdown",
   "metadata": {},
   "source": [
    "First, we put all bits in superposition\n",
    "\n",
    "$| s> = \\frac{1}{2} (|00\\rangle + |01\\rangle + |10\\rangle + |11\\rangle)$"
   ]
  },
  {
   "cell_type": "code",
   "execution_count": 250,
   "metadata": {},
   "outputs": [],
   "source": [
    "q_reg = QuantumRegister(2,'q')\n",
    "c_reg = ClassicalRegister(2,'c')"
   ]
  },
  {
   "cell_type": "markdown",
   "metadata": {},
   "source": [
    "Next we need to find the Oracle circuits for our search values. These oracle maticies are found \n",
    "\n",
    "First, we finding $|11\\rangle$ - We then 'mark' $|11\\rangle$ by making it negative.\n",
    "\n",
    "We find our Oracle to be <center>$U_{\\omega}|s\\rangle = \\frac{1}{2} (|00\\rangle + |01\\rangle + |10\\rangle - |11\\rangle)$</center>\n",
    "<br>\n",
    "Hence:\n",
    "\\begin{equation*}\n",
    "U_{\\omega = 0} =\n",
    "\\begin{bmatrix}\n",
    "1 & 0 & 0 & 0\\\\\n",
    "0 & 1 & 0 & 0\\\\\n",
    "0 & 0 & 1& 0\\\\\n",
    "0 & 0 & 0 & -1\n",
    "\\end{bmatrix}\n",
    "\\end{equation*}\n",
    "Which is known to be the Unitary matrix for the Controlled Z gate. "
   ]
  },
  {
   "cell_type": "code",
   "execution_count": null,
   "metadata": {
    "scrolled": false
   },
   "outputs": [],
   "source": [
    "U3 = QuantumCircuit(q_reg, name='Oracle-11')\n",
    "######################\n",
    "## Enter Gates Here ##\n",
    "######################\n",
    "U3.draw(output='mpl', plot_barriers=True)"
   ]
  },
  {
   "cell_type": "markdown",
   "metadata": {},
   "source": [
    "Next we need to find the Oracle circuits for our search values.\n",
    "\n",
    "First, we finding $|10\\rangle$ - We then 'mark' $|10\\rangle$ by making it negative.\n",
    "\n",
    "We find our Oracle to be <center>$U_{\\omega}|s\\rangle = \\frac{1}{2} (|00\\rangle + |01\\rangle - |10\\rangle + |11\\rangle)$</center>\n",
    "<br>\n",
    "Hence:\n",
    "\\begin{equation*}\n",
    "U_{\\omega = 0} =\n",
    "\\begin{bmatrix}\n",
    "1 & 0 & 0 & 0\\\\\n",
    "0 & 1 & 0 & 0\\\\\n",
    "0 & 0 & -1& 0\\\\\n",
    "0 & 0 & 0 & 1\n",
    "\\end{bmatrix}\n",
    "\\end{equation*}\n",
    "\n",
    "This oracle circuit can be realised as follows:"
   ]
  },
  {
   "cell_type": "code",
   "execution_count": 253,
   "metadata": {},
   "outputs": [
    {
     "data": {
      "image/png": "[encoded data removed]",
      "text/plain": [
       "<Figure size 206.852x144.48 with 1 Axes>"
      ]
     },
     "execution_count": 253,
     "metadata": {},
     "output_type": "execute_result"
    }
   ],
   "source": [
    "U2 = QuantumCircuit(q_reg, name='Oracle-10')\n",
    "######################\n",
    "## Enter Gates Here ##\n",
    "######################\n",
    "U2.draw(output='mpl', plot_barriers=True)"
   ]
  },
  {
   "cell_type": "markdown",
   "metadata": {},
   "source": [
    "Next we need to find the Oracle circuits for our search values.\n",
    "\n",
    "Finding $|01\\rangle$\n",
    "We find our Oracle to be <center>$U_{\\omega}|s\\rangle = \\frac{1}{2} (|00\\rangle - |01\\rangle + |10\\rangle + |11\\rangle)$</center>\n",
    "<br>\n",
    "Hence:\n",
    "\\begin{equation*}\n",
    "U_{\\omega = 0} =\n",
    "\\begin{bmatrix}\n",
    "1 & 0 & 0 & 0\\\\\n",
    "0 & -1 & 0 & 0\\\\\n",
    "0 & 0 & 1& 0\\\\\n",
    "0 & 0 & 0 & 1\n",
    "\\end{bmatrix}\n",
    "\\end{equation*}\n",
    "\n",
    "Resulting in the Oracle Circuit:"
   ]
  },
  {
   "cell_type": "code",
   "execution_count": 254,
   "metadata": {
    "scrolled": true
   },
   "outputs": [
    {
     "data": {
      "image/png": "[encoded data removed]",
      "text/plain": [
       "<Figure size 206.852x144.48 with 1 Axes>"
      ]
     },
     "execution_count": 254,
     "metadata": {},
     "output_type": "execute_result"
    }
   ],
   "source": [
    "U1 = QuantumCircuit(q_reg, name='Oracle-01')\n",
    "######################\n",
    "## Enter Gates Here ##\n",
    "######################\n",
    "U1.draw(output='mpl', plot_barriers=True)"
   ]
  },
  {
   "cell_type": "markdown",
   "metadata": {},
   "source": [
    "Next we need to find the Oracle circuits for our search values.\n",
    "\n",
    "Finally, we find $|00\\rangle$. This will also be used to determine the Difusing circuit.\n",
    "We find our Oracle to be <center>$U_{\\omega}|s\\rangle = \\frac{1}{2} (|00\\rangle - |01\\rangle + |10\\rangle + |11\\rangle)$</center>\n",
    "<br>\n",
    "Hence:\n",
    "\\begin{equation*}\n",
    "U_{\\omega = 0} =\n",
    "\\begin{bmatrix}\n",
    "-1 & 0 & 0 & 0\\\\\n",
    "0 & 1 & 0 & 0\\\\\n",
    "0 & 0 & 1& 0\\\\\n",
    "0 & 0 & 0 & 1\n",
    "\\end{bmatrix}\n",
    "\\end{equation*}\n",
    "\n",
    "Resulting in the Oracle Circuit:"
   ]
  },
  {
   "cell_type": "code",
   "execution_count": 284,
   "metadata": {
    "scrolled": true
   },
   "outputs": [
    {
     "data": {
      "image/png": "[encoded data removed]",
      "text/plain": [
       "<Figure size 267.052x144.48 with 1 Axes>"
      ]
     },
     "execution_count": 284,
     "metadata": {},
     "output_type": "execute_result"
    }
   ],
   "source": [
    "U0 = QuantumCircuit(q_reg, name='Oracle-00')\n",
    "######################\n",
    "## Enter Gates Here ##\n",
    "######################\n",
    "U0.draw(output='mpl', plot_barriers=True)"
   ]
  },
  {
   "cell_type": "markdown",
   "metadata": {},
   "source": [
    "$U_{S} = 2|s\\rangle\\langle s| - \\mathbb{1}$\n",
    "and we know\n",
    "$H^{\\otimes n}|s\\rangle = |0\\rangle$\n",
    "\n",
    "We then apply a negative phase change to states orthogonal to $|0\\rangle$\n",
    "\n",
    "So we get $U_{0}\\frac{1}{2} (|00\\rangle + |01\\rangle + |10\\rangle + |11\\rangle) = \\frac{1}{2} (|00\\rangle - |01\\rangle - |10\\rangle - |11\\rangle) $\n",
    "\n",
    "\n",
    "\\begin{equation*}\n",
    "U_{0} =\n",
    "\\begin{bmatrix}\n",
    "1 & 0 & 0 & 0\\\\\n",
    "0 & -1 & 0 & 0\\\\\n",
    "0 & 0 & -1 & 0\\\\\n",
    "0 & 0 & 0 & -1\n",
    "\\end{bmatrix}\n",
    "\\end{equation*}\n",
    "\n",
    "This can be reaslised as a circiut as below:"
   ]
  },
  {
   "cell_type": "code",
   "execution_count": 285,
   "metadata": {
    "scrolled": true
   },
   "outputs": [
    {
     "data": {
      "image/png": "[encoded data removed]",
      "text/plain": [
       "<Figure size 327.252x144.48 with 1 Axes>"
      ]
     },
     "execution_count": 285,
     "metadata": {},
     "output_type": "execute_result"
    }
   ],
   "source": [
    "US = QuantumCircuit(q_reg, name='Diffuser')\n",
    "US.h(q_reg)\n",
    "US.append(U0.to_gate(), q_reg)\n",
    "US.h(q_reg)\n",
    "US.draw(output='mpl', plot_barriers=True)"
   ]
  },
  {
   "cell_type": "code",
   "execution_count": 268,
   "metadata": {},
   "outputs": [],
   "source": [
    "from qiskit.providers.aer.noise import NoiseModel\n",
    "\n",
    "backend = provider.get_backend('ibmq_16_melbourne')\n",
    "qasmsim = Aer.get_backend('qasm_simulator')\n",
    "noise_model = NoiseModel.from_backend(backend)\n",
    "coupling_map = backend.configuration().coupling_map\n",
    "basis_gates = noise_model.basis_gates"
   ]
  },
  {
   "cell_type": "code",
   "execution_count": 286,
   "metadata": {
    "scrolled": true
   },
   "outputs": [
    {
     "data": {
      "image/png": "[encoded data removed]",
      "text/plain": [
       "<Figure size 387.452x204.68 with 1 Axes>"
      ]
     },
     "execution_count": 286,
     "metadata": {},
     "output_type": "execute_result"
    }
   ],
   "source": [
    "qc = QuantumCircuit(q_reg, c_reg)\n",
    "qc.h(q_reg)\n",
    "qc.append(U3.to_gate(),q_reg)\n",
    "qc.append(US.to_gate(),q_reg)\n",
    "qc.draw(output='mpl', plot_barriers=True)"
   ]
  },
  {
   "cell_type": "code",
   "execution_count": 287,
   "metadata": {},
   "outputs": [
    {
     "data": {
      "image/png": "[encoded data removed]",
      "text/plain": [
       "<Figure size 504x360 with 1 Axes>"
      ]
     },
     "execution_count": 287,
     "metadata": {},
     "output_type": "execute_result"
    }
   ],
   "source": [
    "qc.measure(q_reg, c_reg)\n",
    "backend = provider.get_backend('ibmq_qasm_simulator')\n",
    "transpiled = transpile(qc, backend=backend)\n",
    "job = backend.run(transpiled)\n",
    "retrieved_job = backend.retrieve_job(job.job_id())\n",
    "counts = retrieved_job.result().get_counts()\n",
    "plot_histogram(counts)"
   ]
  },
  {
   "cell_type": "code",
   "execution_count": 288,
   "metadata": {
    "scrolled": true
   },
   "outputs": [
    {
     "data": {
      "image/png": "[encoded data removed]",
      "text/plain": [
       "<Figure size 387.452x204.68 with 1 Axes>"
      ]
     },
     "execution_count": 288,
     "metadata": {},
     "output_type": "execute_result"
    }
   ],
   "source": [
    "qc = QuantumCircuit(q_reg, c_reg)\n",
    "qc.h(q_reg)\n",
    "qc.append(U2.to_gate(),q_reg)\n",
    "qc.append(US.to_gate(),q_reg)\n",
    "qc.draw(output='mpl', plot_barriers=True)"
   ]
  },
  {
   "cell_type": "code",
   "execution_count": 289,
   "metadata": {},
   "outputs": [
    {
     "data": {
      "image/png": "[encoded data removed]",
      "text/plain": [
       "<Figure size 504x360 with 1 Axes>"
      ]
     },
     "execution_count": 289,
     "metadata": {},
     "output_type": "execute_result"
    }
   ],
   "source": [
    "qc.measure(q_reg, c_reg)\n",
    "backend = provider.get_backend('ibmq_qasm_simulator')\n",
    "transpiled = transpile(qc, backend=backend)\n",
    "job = backend.run(transpiled)\n",
    "retrieved_job = backend.retrieve_job(job.job_id())\n",
    "counts = retrieved_job.result().get_counts()\n",
    "plot_histogram(counts)"
   ]
  },
  {
   "cell_type": "code",
   "execution_count": 290,
   "metadata": {
    "scrolled": true
   },
   "outputs": [
    {
     "data": {
      "image/png": "[encoded data removed]",
      "text/plain": [
       "<Figure size 387.452x204.68 with 1 Axes>"
      ]
     },
     "execution_count": 290,
     "metadata": {},
     "output_type": "execute_result"
    }
   ],
   "source": [
    "qc = QuantumCircuit(q_reg, c_reg)\n",
    "qc.h(q_reg)\n",
    "qc.append(U1.to_gate(),q_reg)\n",
    "qc.append(US.to_gate(),q_reg)\n",
    "qc.draw(output='mpl', plot_barriers=True)"
   ]
  },
  {
   "cell_type": "code",
   "execution_count": 291,
   "metadata": {},
   "outputs": [
    {
     "data": {
      "image/png": "[encoded data removed]",
      "text/plain": [
       "<Figure size 504x360 with 1 Axes>"
      ]
     },
     "execution_count": 291,
     "metadata": {},
     "output_type": "execute_result"
    }
   ],
   "source": [
    "qc.measure(q_reg, c_reg)\n",
    "backend = provider.get_backend('ibmq_qasm_simulator')\n",
    "transpiled = transpile(qc, backend=backend)\n",
    "job = backend.run(transpiled)\n",
    "retrieved_job = backend.retrieve_job(job.job_id())\n",
    "counts = retrieved_job.result().get_counts()\n",
    "plot_histogram(counts)"
   ]
  },
  {
   "cell_type": "code",
   "execution_count": 303,
   "metadata": {
    "scrolled": true
   },
   "outputs": [
    {
     "data": {
      "image/png": "[encoded data removed]",
      "text/plain": [
       "<Figure size 447.652x204.68 with 1 Axes>"
      ]
     },
     "execution_count": 303,
     "metadata": {},
     "output_type": "execute_result"
    }
   ],
   "source": [
    "qc = QuantumCircuit(q_reg, c_reg)\n",
    "qc.h(q_reg)\n",
    "qc.append(U0.to_gate(),q_reg)\n",
    "qc.append(US.to_gate(),q_reg)\n",
    "qc.h(q_reg)\n",
    "qc.draw(output='mpl', plot_barriers=True)"
   ]
  },
  {
   "cell_type": "code",
   "execution_count": 304,
   "metadata": {
    "scrolled": true
   },
   "outputs": [
    {
     "data": {
      "image/png": "[encoded data removed]",
      "text/plain": [
       "<Figure size 504x360 with 1 Axes>"
      ]
     },
     "execution_count": 304,
     "metadata": {},
     "output_type": "execute_result"
    }
   ],
   "source": [
    "qc.measure(q_reg, c_reg)\n",
    "backend = provider.get_backend('ibmq_qasm_simulator')\n",
    "transpiled = transpile(qc, backend=backend)\n",
    "job = backend.run(transpiled)\n",
    "retrieved_job = backend.retrieve_job(job.job_id())\n",
    "counts = retrieved_job.result().get_counts()\n",
    "plot_histogram(counts)"
   ]
  }
 ],
 "metadata": {
  "kernelspec": {
   "display_name": "Python 3",
   "language": "python",
   "name": "python3"
  },
  "language_info": {
   "codemirror_mode": {
    "name": "ipython",
    "version": 3
   },
   "file_extension": ".py",
   "mimetype": "text/x-python",
   "name": "python",
   "nbconvert_exporter": "python",
   "pygments_lexer": "ipython3",
   "version": "3.7.6"
  }
 },
 "nbformat": 4,
 "nbformat_minor": 4
}
